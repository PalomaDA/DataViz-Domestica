{
 "cells": [
  {
   "cell_type": "markdown",
   "metadata": {},
   "source": [
    "# Proyecto\n",
    "Análisis de la valoración de los usuarios de cada uno de los capítulos de varias series. Datos extraidos de IMDB.\n",
    "\n",
    "La visualización de datos se realizará con la herramienta de BI Tableau.\n",
    "\n",
    "## Scraping de datos\n",
    "El **scraping** es el proceso de extraer datos de internet.\n",
    "\n",
    "### Pasos\n",
    "- Acceder a la página web de la que queremos extraer datos (en este caso, imdb.com)\n",
    "- Utilizar una extension de chrome para scrapear datos (yo uso instant data scraper)\n",
    "- Insertar los datos en una hoja de cálculo (Google Sheets) "
   ]
  },
  {
   "cell_type": "markdown",
   "metadata": {},
   "source": []
  }
 ],
 "metadata": {
  "language_info": {
   "name": "python"
  }
 },
 "nbformat": 4,
 "nbformat_minor": 2
}
