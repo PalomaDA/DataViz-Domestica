{
 "cells": [
  {
   "cell_type": "markdown",
   "metadata": {},
   "source": [
    "# Proyecto\n",
    "Análisis de la valoración de los usuarios de cada uno de los capítulos de varias series. Datos extraidos de IMDB.\n",
    "\n",
    "La visualización de datos se realizará con la herramienta de BI Tableau.\n",
    "## Pasos\n",
    "- Acceder a la página web de la que queremos extraer datos (en este caso, imdb.com)\n",
    "- Utilizar una extension de chrome para scrapear datos (yo uso instant data scraper)\n",
    "- Insertar los datos en una hoja de cálculo (Google Sheets)\n",
    "- Unificar y limpiar los datos\n",
    "    - Fomato correcto\n",
    "    - Eliminar columnas innecesatias (de transformación)\n",
    "- Transformación de datos (cálculos)\n",
    "    - Para el curso, se usa el estadístico **z score** o unidad tipificada. Útil en nuestro caso porque aunque las valoraciones pueden ir de 0 a 10, nuestros valores se mueven en rangos entre el 6 y el 8 sobre todo, con escada variabilidad\n",
    "    > Z Score: **Comparación homogénea entre los valores de distintas series**. Muestra el número de desviaciones típicas en que un valor dado se sitúa por encima o debajo de la media de su muestra o población. Luego una unidad tipificada de valor negativo se sitúa por debajo de la media, mientras que una unidad tipificada de valor positivo se sitúa por encima de la media. \n",
    "    \n",
    "        Se calcula como el (valor - media)/desviación tipica \n",
    "        \n",
    "\n",
    "\n",
    "### Scraping de datos\n",
    "El **scraping** es el proceso de extraer datos de internet.\n",
    "En el curso, enseñan a utilizar una extensión de Crhome para la extracción directa (en mi caso, **Instant Data Scraper**)\n",
    "\n",
    "> Investigar libreria Beautiful Soup\n",
    "\n"
   ]
  },
  {
   "cell_type": "code",
   "execution_count": null,
   "metadata": {},
   "outputs": [],
   "source": []
  },
  {
   "cell_type": "markdown",
   "metadata": {},
   "source": []
  }
 ],
 "metadata": {
  "language_info": {
   "name": "python"
  }
 },
 "nbformat": 4,
 "nbformat_minor": 2
}
