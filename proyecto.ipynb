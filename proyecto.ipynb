{
 "cells": [
  {
   "cell_type": "markdown",
   "id": "e3c661ee",
   "metadata": {},
   "source": [
    "# Proyecto Webscraping + DataViz\n",
    "## Objetivos\n",
    "El objetivo es construir un proyecto propio a partir del curso de Domestika **Introducción a la visualización de datos**.\n",
    "\n",
    "Skills a desarrollar:\n",
    "- Webscraping desde python con la libreria **beautifulsoup** en vez de con una extensión de google (imdb.com)\n",
    "- Crear un dataframe (df) dinámico dependiente del imput del usuario (elección de series de la que extraer los datos)\n",
    "- EDA dinámico: según los datos extraidos por el usuario\n",
    "- Transformación a formato excel del df\n",
    "- Construcción de un dashboard dinámico dependiente del df del usuatrio\n",
    "- **Extra**: convertirlo en una app con streamlit"
   ]
  },
  {
   "cell_type": "markdown",
   "id": "0fcdf933",
   "metadata": {},
   "source": [
    "## Parte 1: Webscraping\n",
    "Queremos contruir una funcion-clase que sea capaz de acceder a la página de imdb.com, a la serie seleccionado por el usuario mediante un imput manual. Tiene que ser capaz de:\n",
    "- Acceder a la pagina de la serie correctamente\n",
    "- Acceder al apartado de capítulos\n",
    "- Extraer los datos relevantes de los capitulos:\n",
    "    - Numero de temporada\n",
    "    - Numero de episodio\n",
    "    - Fecha de estreno\n",
    "    - Nombre del episodio\n",
    "    - Puntuación \n",
    "    - Número de veces puntuado\n",
    "- Incluir cada dato en la columna del df correcta con el formato adecuado\n",
    "- En caso de tener mas de una temporada, realizar el mismo proceso para cada una de las temporadas\n",
    "\n",
    "### Página IMBD\n",
    "**Dificultades:** \n",
    "- Las urls de imdb.com no son muy intuitivas por lo que puede ser un problema a la hora de navegar entre ellas.\n",
    "    - Ejemplo **From** temporada 1: https://www.imdb.com/es-es/title/tt9813792/episodes/?season=1&ref_=ttep\n",
    "    - Ejemplo **Arcane** temporada 2: https://www.imdb.com/es-es/title/tt11126994/episodes/?season=2&ref_=ttep\n",
    "\n",
    "La clave va a ser encontrar el identificador de la serie **tt+numeros**\n"
   ]
  },
  {
   "cell_type": "markdown",
   "id": "253ce8ee",
   "metadata": {},
   "source": [
    "### Beautifulsoup\n",
    "Pruebas iniciales"
   ]
  },
  {
   "cell_type": "code",
   "execution_count": 6,
   "id": "12fb96d9",
   "metadata": {},
   "outputs": [
    {
     "name": "stdout",
     "output_type": "stream",
     "text": [
      "Collecting requests\n",
      "  Downloading requests-2.32.3-py3-none-any.whl.metadata (4.6 kB)\n",
      "Collecting charset-normalizer<4,>=2 (from requests)\n",
      "  Downloading charset_normalizer-3.4.1-cp313-cp313-win_amd64.whl.metadata (36 kB)\n",
      "Collecting idna<4,>=2.5 (from requests)\n",
      "  Downloading idna-3.10-py3-none-any.whl.metadata (10 kB)\n",
      "Collecting urllib3<3,>=1.21.1 (from requests)\n",
      "  Downloading urllib3-2.4.0-py3-none-any.whl.metadata (6.5 kB)\n",
      "Collecting certifi>=2017.4.17 (from requests)\n",
      "  Downloading certifi-2025.1.31-py3-none-any.whl.metadata (2.5 kB)\n",
      "Downloading requests-2.32.3-py3-none-any.whl (64 kB)\n",
      "Downloading certifi-2025.1.31-py3-none-any.whl (166 kB)\n",
      "Downloading charset_normalizer-3.4.1-cp313-cp313-win_amd64.whl (102 kB)\n",
      "Downloading idna-3.10-py3-none-any.whl (70 kB)\n",
      "Downloading urllib3-2.4.0-py3-none-any.whl (128 kB)\n",
      "Installing collected packages: urllib3, idna, charset-normalizer, certifi, requests\n",
      "Successfully installed certifi-2025.1.31 charset-normalizer-3.4.1 idna-3.10 requests-2.32.3 urllib3-2.4.0\n"
     ]
    },
    {
     "name": "stderr",
     "output_type": "stream",
     "text": [
      "  WARNING: The script normalizer.exe is installed in 'c:\\Users\\palom\\AppData\\Local\\Programs\\Python\\Python313\\Scripts' which is not on PATH.\n",
      "  Consider adding this directory to PATH or, if you prefer to suppress this warning, use --no-warn-script-location.\n",
      "\n",
      "[notice] A new release of pip is available: 24.3.1 -> 25.0.1\n",
      "[notice] To update, run: python.exe -m pip install --upgrade pip\n"
     ]
    },
    {
     "name": "stdout",
     "output_type": "stream",
     "text": [
      "Collecting beautifulsoup4\n",
      "  Downloading beautifulsoup4-4.13.4-py3-none-any.whl.metadata (3.8 kB)\n",
      "Collecting soupsieve>1.2 (from beautifulsoup4)\n",
      "  Downloading soupsieve-2.6-py3-none-any.whl.metadata (4.6 kB)\n",
      "Collecting typing-extensions>=4.0.0 (from beautifulsoup4)\n",
      "  Downloading typing_extensions-4.13.2-py3-none-any.whl.metadata (3.0 kB)\n",
      "Downloading beautifulsoup4-4.13.4-py3-none-any.whl (187 kB)\n",
      "Downloading soupsieve-2.6-py3-none-any.whl (36 kB)\n",
      "Downloading typing_extensions-4.13.2-py3-none-any.whl (45 kB)\n",
      "Installing collected packages: typing-extensions, soupsieve, beautifulsoup4\n",
      "Successfully installed beautifulsoup4-4.13.4 soupsieve-2.6 typing-extensions-4.13.2\n"
     ]
    },
    {
     "name": "stderr",
     "output_type": "stream",
     "text": [
      "\n",
      "[notice] A new release of pip is available: 24.3.1 -> 25.0.1\n",
      "[notice] To update, run: python.exe -m pip install --upgrade pip\n"
     ]
    }
   ],
   "source": [
    "# Instalamos las librerías request y beautifulsoup\n",
    "import sys\n",
    "!{sys.executable} -m pip install requests\n",
    "!{sys.executable} -m pip install beautifulsoup4"
   ]
  },
  {
   "cell_type": "code",
   "execution_count": 7,
   "id": "36c41216",
   "metadata": {},
   "outputs": [],
   "source": [
    "# Importamos las librerias\n",
    "import requests\n",
    "from bs4 import BeautifulSoup"
   ]
  },
  {
   "cell_type": "code",
   "execution_count": null,
   "id": "7c336ac3",
   "metadata": {},
   "outputs": [],
   "source": [
    "# Probamos la llamada a la url con la serie Arcane temporada 1 (formato text)\n",
    "arcane_t1 = requests.get(\"https://www.imdb.com/es-es/title/tt11126994/episodes/?season=1&ref_=ttep\").text"
   ]
  },
  {
   "cell_type": "code",
   "execution_count": 18,
   "id": "cc495bc1",
   "metadata": {},
   "outputs": [
    {
     "name": "stdout",
     "output_type": "stream",
     "text": [
      "<Response [403]>\n"
     ]
    }
   ],
   "source": [
    "# Mostramos lo que hay en nuestra nueva variable\n",
    "print(arcane_t1)"
   ]
  },
  {
   "cell_type": "code",
   "execution_count": 22,
   "id": "ad5291ea",
   "metadata": {},
   "outputs": [],
   "source": [
    "sopa = BeautifulSoup(arcane_t1,'html.parser')"
   ]
  },
  {
   "cell_type": "code",
   "execution_count": 23,
   "id": "b6bdbc51",
   "metadata": {},
   "outputs": [
    {
     "data": {
      "text/plain": [
       "<html>\n",
       "<head><title>403 Forbidden</title></head>\n",
       "<body>\n",
       "<center><h1>403 Forbidden</h1></center>\n",
       "</body>\n",
       "</html>"
      ]
     },
     "execution_count": 23,
     "metadata": {},
     "output_type": "execute_result"
    }
   ],
   "source": [
    "sopa"
   ]
  },
  {
   "cell_type": "markdown",
   "id": "52fc5c56",
   "metadata": {},
   "source": [
    "La página imdb no me deja acceder a la totalidad de sus datos. Tratamos de \"engañar\" a la página usando la opción de \"headers\""
   ]
  },
  {
   "cell_type": "code",
   "execution_count": 24,
   "id": "b0117e7d",
   "metadata": {},
   "outputs": [
    {
     "name": "stdout",
     "output_type": "stream",
     "text": [
      "200\n",
      "<!DOCTYPE html>\n",
      "<html lang=\"es-ES\" xmlns:fb=\"http://www.facebook.com/2008/fbml\" xmlns:og=\"http://opengraphprotocol.org/schema/\">\n",
      " <head>\n",
      "  <meta charset=\"utf-8\"/>\n",
      "  <meta content=\"width=device-width\" name=\"viewport\"/>\n",
      "  <script>\n",
      "   if(typeof uet === 'function'){ uet('bb', 'LoadTitle', {wb: 1}); }\n",
      "  </script>\n",
      "  <script>\n",
      "   window.addEventListener('load', (event) => {\n",
      "        if (typeof window.csa !== 'undefined' && typeof window.csa === 'function') {\n",
      "            var csaLatencyPlugin = window.csa('Content', {\n",
      "                element: {\n",
      "                    slotId: 'LoadTitle',\n",
      "                    type: 'service-call'\n",
      "                }\n",
      "            });\n",
      "            csaLatencyPlugin('mark', 'clickToBodyBegin', 1745057569488);\n",
      "        }\n",
      "    })\n",
      "  </script>\n",
      "  <title>\n",
      "   Arcane (Serie de TV 2021–2024) - Lista de episodios - IMDb\n",
      "  </title>\n",
      "  <meta content=\"Arcane (Serie de TV 2021–2024) - Películas, televisión, celebridades y más...\" data-id=\"main\" name=\"description\"/>\n",
      "  <meta content=\"Episodios\"\n"
     ]
    }
   ],
   "source": [
    "# URL del listado de episodios\n",
    "url = \"https://www.imdb.com/es-es/title/tt11126994/episodes/?season=1&ref_=ttep\"\n",
    "\n",
    "# Simulamos ser un navegador real\n",
    "headers = {\n",
    "    \"User-Agent\": \"Mozilla/5.0 (Windows NT 10.0; Win64; x64) \"\n",
    "                  \"AppleWebKit/537.36 (KHTML, like Gecko) \"\n",
    "                  \"Chrome/112.0.0.0 Safari/537.36\",\n",
    "    \"Accept-Language\": \"es-ES,es;q=0.9\"\n",
    "}\n",
    "\n",
    "# Petición\n",
    "response = requests.get(url, headers=headers)\n",
    "\n",
    "# Verificamos que haya ido bien\n",
    "print(response.status_code)  # Debería dar 200\n",
    "\n",
    "# Parseamos si todo está OK\n",
    "if response.status_code == 200:\n",
    "    soup = BeautifulSoup(response.content, \"html.parser\")\n",
    "    print(soup.prettify()[:1000])  # Solo mostramos un trozo para que no se sature\n",
    "else:\n",
    "    print(\"Algo ha fallado\")"
   ]
  }
 ],
 "metadata": {
  "kernelspec": {
   "display_name": "Python 3",
   "language": "python",
   "name": "python3"
  },
  "language_info": {
   "codemirror_mode": {
    "name": "ipython",
    "version": 3
   },
   "file_extension": ".py",
   "mimetype": "text/x-python",
   "name": "python",
   "nbconvert_exporter": "python",
   "pygments_lexer": "ipython3",
   "version": "3.13.2"
  }
 },
 "nbformat": 4,
 "nbformat_minor": 5
}
